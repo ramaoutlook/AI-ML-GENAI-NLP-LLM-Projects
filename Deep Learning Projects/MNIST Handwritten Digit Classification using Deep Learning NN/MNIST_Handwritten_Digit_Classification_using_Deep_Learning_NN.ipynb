{
  "nbformat": 4,
  "nbformat_minor": 0,
  "metadata": {
    "colab": {
      "provenance": [],
      "authorship_tag": "ABX9TyOgF25rRCmUpICoLh2CsG77",
      "include_colab_link": true
    },
    "kernelspec": {
      "name": "python3",
      "display_name": "Python 3"
    },
    "language_info": {
      "name": "python"
    }
  },
  "cells": [
    {
      "cell_type": "markdown",
      "metadata": {
        "id": "view-in-github",
        "colab_type": "text"
      },
      "source": [
        "<a href=\"https://colab.research.google.com/github/ramaoutlook/AI-ML-GENAI-NLP-LLM-Projects/blob/main/Deep%20Learning%20Projects/MNIST%20Handwritten%20Digit%20Classification%20using%20Deep%20Learning%20NN/MNIST_Handwritten_Digit_Classification_using_Deep_Learning_NN.ipynb\" target=\"_parent\"><img src=\"https://colab.research.google.com/assets/colab-badge.svg\" alt=\"Open In Colab\"/></a>"
      ]
    },
    {
      "cell_type": "code",
      "execution_count": 1,
      "metadata": {
        "id": "DWjK__Q11KQq"
      },
      "outputs": [],
      "source": [
        "import numpy as np\n",
        "import matplotlib.pyplot as plt\n",
        "import seaborn as sns\n",
        "import cv2\n",
        "from google.colab.patches import cv2_imshow\n",
        "from PIL import Image\n",
        "import tensorflow as tf\n",
        "tf.random.set_seed(3)\n",
        "from tensorflow import keras\n",
        "from keras.datasets import mnist\n",
        "from tensorflow.math import confusion_matrix"
      ]
    },
    {
      "cell_type": "markdown",
      "source": [
        "Loading the MNIST data from keras.datasets"
      ],
      "metadata": {
        "id": "spDYqJHD3HSk"
      }
    },
    {
      "cell_type": "code",
      "source": [
        "(X_train, y_train), (X_test, y_test) = mnist.load_data()"
      ],
      "metadata": {
        "colab": {
          "base_uri": "https://localhost:8080/"
        },
        "id": "e-ZQETjg2_Kw",
        "outputId": "b59bf69a-29dc-4b6b-ba49-55555e9d8ebe"
      },
      "execution_count": 2,
      "outputs": [
        {
          "output_type": "stream",
          "name": "stdout",
          "text": [
            "Downloading data from https://storage.googleapis.com/tensorflow/tf-keras-datasets/mnist.npz\n",
            "\u001b[1m11490434/11490434\u001b[0m \u001b[32m━━━━━━━━━━━━━━━━━━━━\u001b[0m\u001b[37m\u001b[0m \u001b[1m1s\u001b[0m 0us/step\n"
          ]
        }
      ]
    },
    {
      "cell_type": "code",
      "source": [
        "X_train.shape, y_train.shape, X_test.shape, y_test.shape"
      ],
      "metadata": {
        "colab": {
          "base_uri": "https://localhost:8080/"
        },
        "id": "SLLa1spG30oo",
        "outputId": "150616ed-8ea6-4d21-8ec3-30c47b5d4d64"
      },
      "execution_count": 3,
      "outputs": [
        {
          "output_type": "execute_result",
          "data": {
            "text/plain": [
              "((60000, 28, 28), (60000,), (10000, 28, 28), (10000,))"
            ]
          },
          "metadata": {},
          "execution_count": 3
        }
      ]
    },
    {
      "cell_type": "code",
      "source": [
        "type(X_train)"
      ],
      "metadata": {
        "colab": {
          "base_uri": "https://localhost:8080/"
        },
        "id": "jzyjfpjv33e_",
        "outputId": "96b41ee3-199e-4574-b783-4e396bebc823"
      },
      "execution_count": 4,
      "outputs": [
        {
          "output_type": "execute_result",
          "data": {
            "text/plain": [
              "numpy.ndarray"
            ]
          },
          "metadata": {},
          "execution_count": 4
        }
      ]
    },
    {
      "cell_type": "markdown",
      "source": [
        "Training data = 60000 images\n",
        "\n",
        "Test data = 10,000 images\n",
        "\n",
        "Imae dimension ->28X28\n",
        "\n",
        "Grayscale Image ->1 Channel"
      ],
      "metadata": {
        "id": "tKS54fqj5QyN"
      }
    },
    {
      "cell_type": "code",
      "source": [
        "# printing the 10th image\n",
        "X_train[10]\n"
      ],
      "metadata": {
        "colab": {
          "base_uri": "https://localhost:8080/",
          "height": 69
        },
        "id": "hIj_T7_V4D_-",
        "outputId": "ced60c9f-b556-40e6-b865-9a902f34409d"
      },
      "execution_count": 5,
      "outputs": [
        {
          "output_type": "execute_result",
          "data": {
            "text/plain": [
              "array([[  0,   0,   0,   0,   0,   0,   0,   0,   0,   0,   0,   0,   0,\n",
              "          0,   0,   0,   0,   0,   0,   0,   0,   0,   0,   0,   0,   0,\n",
              "          0,   0],\n",
              "       [  0,   0,   0,   0,   0,   0,   0,   0,   0,   0,   0,   0,   0,\n",
              "          0,   0,   0,   0,   0,   0,   0,   0,   0,   0,   0,   0,   0,\n",
              "          0,   0],\n",
              "       [  0,   0,   0,   0,   0,   0,   0,   0,   0,   0,   0,   0,   0,\n",
              "          0,   0,   0,   0,   0,   0,   0,   0,   0,   0,   0,   0,   0,\n",
              "          0,   0],\n",
              "       [  0,   0,   0,   0,   0,   0,   0,   0,   0,   0,   0,   0,   0,\n",
              "          0,   0,   0,   0,   0,   0,   0,   0,   0,   0,   0,   0,   0,\n",
              "          0,   0],\n",
              "       [  0,   0,   0,   0,   0,   0,   0,   0,   0,   0,   0,  42, 118,\n",
              "        219, 166, 118, 118,   6,   0,   0,   0,   0,   0,   0,   0,   0,\n",
              "          0,   0],\n",
              "       [  0,   0,   0,   0,   0,   0,   0,   0,   0,   0, 103, 242, 254,\n",
              "        254, 254, 254, 254,  66,   0,   0,   0,   0,   0,   0,   0,   0,\n",
              "          0,   0],\n",
              "       [  0,   0,   0,   0,   0,   0,   0,   0,   0,   0,  18, 232, 254,\n",
              "        254, 254, 254, 254, 238,  70,   0,   0,   0,   0,   0,   0,   0,\n",
              "          0,   0],\n",
              "       [  0,   0,   0,   0,   0,   0,   0,   0,   0,   0,   0, 104, 244,\n",
              "        254, 224, 254, 254, 254, 141,   0,   0,   0,   0,   0,   0,   0,\n",
              "          0,   0],\n",
              "       [  0,   0,   0,   0,   0,   0,   0,   0,   0,   0,   0,   0, 207,\n",
              "        254, 210, 254, 254, 254,  34,   0,   0,   0,   0,   0,   0,   0,\n",
              "          0,   0],\n",
              "       [  0,   0,   0,   0,   0,   0,   0,   0,   0,   0,   0,   0,  84,\n",
              "        206, 254, 254, 254, 254,  41,   0,   0,   0,   0,   0,   0,   0,\n",
              "          0,   0],\n",
              "       [  0,   0,   0,   0,   0,   0,   0,   0,   0,   0,   0,   0,   0,\n",
              "         24, 209, 254, 254, 254, 171,   0,   0,   0,   0,   0,   0,   0,\n",
              "          0,   0],\n",
              "       [  0,   0,   0,   0,   0,   0,   0,   0,   0,   0,   0,   0,  91,\n",
              "        137, 253, 254, 254, 254, 112,   0,   0,   0,   0,   0,   0,   0,\n",
              "          0,   0],\n",
              "       [  0,   0,   0,   0,   0,   0,   0,   0,   0,   0,  40, 214, 250,\n",
              "        254, 254, 254, 254, 254,  34,   0,   0,   0,   0,   0,   0,   0,\n",
              "          0,   0],\n",
              "       [  0,   0,   0,   0,   0,   0,   0,   0,   0,   0,  81, 247, 254,\n",
              "        254, 254, 254, 254, 254, 146,   0,   0,   0,   0,   0,   0,   0,\n",
              "          0,   0],\n",
              "       [  0,   0,   0,   0,   0,   0,   0,   0,   0,   0,   0, 110, 246,\n",
              "        254, 254, 254, 254, 254, 171,   0,   0,   0,   0,   0,   0,   0,\n",
              "          0,   0],\n",
              "       [  0,   0,   0,   0,   0,   0,   0,   0,   0,   0,   0,   0,  73,\n",
              "         89,  89,  93, 240, 254, 171,   0,   0,   0,   0,   0,   0,   0,\n",
              "          0,   0],\n",
              "       [  0,   0,   0,   0,   0,   0,   0,   0,   0,   0,   0,   0,   0,\n",
              "          0,   0,   1, 128, 254, 219,  31,   0,   0,   0,   0,   0,   0,\n",
              "          0,   0],\n",
              "       [  0,   0,   0,   0,   0,   0,   0,   0,   0,   0,   0,   0,   0,\n",
              "          0,   0,   7, 254, 254, 214,  28,   0,   0,   0,   0,   0,   0,\n",
              "          0,   0],\n",
              "       [  0,   0,   0,   0,   0,   0,   0,   0,   0,   0,   0,   0,   0,\n",
              "          0,   0, 138, 254, 254, 116,   0,   0,   0,   0,   0,   0,   0,\n",
              "          0,   0],\n",
              "       [  0,   0,   0,   0,   0,   0,  19, 177,  90,   0,   0,   0,   0,\n",
              "          0,  25, 240, 254, 254,  34,   0,   0,   0,   0,   0,   0,   0,\n",
              "          0,   0],\n",
              "       [  0,   0,   0,   0,   0,   0, 164, 254, 215,  63,  36,   0,  51,\n",
              "         89, 206, 254, 254, 139,   8,   0,   0,   0,   0,   0,   0,   0,\n",
              "          0,   0],\n",
              "       [  0,   0,   0,   0,   0,   0,  57, 197, 254, 254, 222, 180, 241,\n",
              "        254, 254, 253, 213,  11,   0,   0,   0,   0,   0,   0,   0,   0,\n",
              "          0,   0],\n",
              "       [  0,   0,   0,   0,   0,   0,   0, 140, 105, 254, 254, 254, 254,\n",
              "        254, 254, 236,   0,   0,   0,   0,   0,   0,   0,   0,   0,   0,\n",
              "          0,   0],\n",
              "       [  0,   0,   0,   0,   0,   0,   0,   0,   7, 117, 117, 165, 254,\n",
              "        254, 239,  50,   0,   0,   0,   0,   0,   0,   0,   0,   0,   0,\n",
              "          0,   0],\n",
              "       [  0,   0,   0,   0,   0,   0,   0,   0,   0,   0,   0,   0,   0,\n",
              "          0,   0,   0,   0,   0,   0,   0,   0,   0,   0,   0,   0,   0,\n",
              "          0,   0],\n",
              "       [  0,   0,   0,   0,   0,   0,   0,   0,   0,   0,   0,   0,   0,\n",
              "          0,   0,   0,   0,   0,   0,   0,   0,   0,   0,   0,   0,   0,\n",
              "          0,   0],\n",
              "       [  0,   0,   0,   0,   0,   0,   0,   0,   0,   0,   0,   0,   0,\n",
              "          0,   0,   0,   0,   0,   0,   0,   0,   0,   0,   0,   0,   0,\n",
              "          0,   0],\n",
              "       [  0,   0,   0,   0,   0,   0,   0,   0,   0,   0,   0,   0,   0,\n",
              "          0,   0,   0,   0,   0,   0,   0,   0,   0,   0,   0,   0,   0,\n",
              "          0,   0]], dtype=uint8)"
            ],
            "text/html": [
              "<style>\n",
              "      .ndarray_repr .ndarray_raw_data {\n",
              "        display: none;\n",
              "      }\n",
              "      .ndarray_repr.show_array .ndarray_raw_data {\n",
              "        display: block;\n",
              "      }\n",
              "      .ndarray_repr.show_array .ndarray_image_preview {\n",
              "        display: none;\n",
              "      }\n",
              "      </style>\n",
              "      <div id=\"id-6d5590ff-9be9-42e5-95cb-52f8a20a4e11\" class=\"ndarray_repr\"><pre>ndarray (28, 28) <button style=\"padding: 0 2px;\">show data</button></pre><img src=\"data:image/png;base64,iVBORw0KGgoAAAANSUhEUgAAABwAAAAcCAAAAABXZoBIAAAA5klEQVR4nGNgoD9gRGJr+aSevsAw4Rc2demf/v379++fE1ZDhF78+/fv3793blhlM778e/Dv379e7A44/+/Sv3//lLBLhpz79+/fP00cbpe4+O/fv9VwLguyXLSeDgMDw1Fs2jSu/fr3D8VOJoSkpiLEmAKsNuZ9+/cPp52TbgswsEzmw+FYBgYGxoZ/t+VxSbL/+3dNBpdk179/JehiwhujGBgYGBgkP2AJviX/rturMBhHnvv3r5sDXdLy6L9/97Z8/Pfv71VuTLt6Mv/9+/fv3783yIIwf5aw8zAYRDJ8xB7TdAQABFdhZWAfWxoAAAAASUVORK5CYII=\" class=\"ndarray_image_preview\" /><pre class=\"ndarray_raw_data\">array([[  0,   0,   0,   0,   0,   0,   0,   0,   0,   0,   0,   0,   0,\n",
              "          0,   0,   0,   0,   0,   0,   0,   0,   0,   0,   0,   0,   0,\n",
              "          0,   0],\n",
              "       [  0,   0,   0,   0,   0,   0,   0,   0,   0,   0,   0,   0,   0,\n",
              "          0,   0,   0,   0,   0,   0,   0,   0,   0,   0,   0,   0,   0,\n",
              "          0,   0],\n",
              "       [  0,   0,   0,   0,   0,   0,   0,   0,   0,   0,   0,   0,   0,\n",
              "          0,   0,   0,   0,   0,   0,   0,   0,   0,   0,   0,   0,   0,\n",
              "          0,   0],\n",
              "       [  0,   0,   0,   0,   0,   0,   0,   0,   0,   0,   0,   0,   0,\n",
              "          0,   0,   0,   0,   0,   0,   0,   0,   0,   0,   0,   0,   0,\n",
              "          0,   0],\n",
              "       [  0,   0,   0,   0,   0,   0,   0,   0,   0,   0,   0,  42, 118,\n",
              "        219, 166, 118, 118,   6,   0,   0,   0,   0,   0,   0,   0,   0,\n",
              "          0,   0],\n",
              "       [  0,   0,   0,   0,   0,   0,   0,   0,   0,   0, 103, 242, 254,\n",
              "        254, 254, 254, 254,  66,   0,   0,   0,   0,   0,   0,   0,   0,\n",
              "          0,   0],\n",
              "       [  0,   0,   0,   0,   0,   0,   0,   0,   0,   0,  18, 232, 254,\n",
              "        254, 254, 254, 254, 238,  70,   0,   0,   0,   0,   0,   0,   0,\n",
              "          0,   0],\n",
              "       [  0,   0,   0,   0,   0,   0,   0,   0,   0,   0,   0, 104, 244,\n",
              "        254, 224, 254, 254, 254, 141,   0,   0,   0,   0,   0,   0,   0,\n",
              "          0,   0],\n",
              "       [  0,   0,   0,   0,   0,   0,   0,   0,   0,   0,   0,   0, 207,\n",
              "        254, 210, 254, 254, 254,  34,   0,   0,   0,   0,   0,   0,   0,\n",
              "          0,   0],\n",
              "       [  0,   0,   0,   0,   0,   0,   0,   0,   0,   0,   0,   0,  84,\n",
              "        206, 254, 254, 254, 254,  41,   0,   0,   0,   0,   0,   0,   0,\n",
              "          0,   0],\n",
              "       [  0,   0,   0,   0,   0,   0,   0,   0,   0,   0,   0,   0,   0,\n",
              "         24, 209, 254, 254, 254, 171,   0,   0,   0,   0,   0,   0,   0,\n",
              "          0,   0],\n",
              "       [  0,   0,   0,   0,   0,   0,   0,   0,   0,   0,   0,   0,  91,\n",
              "        137, 253, 254, 254, 254, 112,   0,   0,   0,   0,   0,   0,   0,\n",
              "          0,   0],\n",
              "       [  0,   0,   0,   0,   0,   0,   0,   0,   0,   0,  40, 214, 250,\n",
              "        254, 254, 254, 254, 254,  34,   0,   0,   0,   0,   0,   0,   0,\n",
              "          0,   0],\n",
              "       [  0,   0,   0,   0,   0,   0,   0,   0,   0,   0,  81, 247, 254,\n",
              "        254, 254, 254, 254, 254, 146,   0,   0,   0,   0,   0,   0,   0,\n",
              "          0,   0],\n",
              "       [  0,   0,   0,   0,   0,   0,   0,   0,   0,   0,   0, 110, 246,\n",
              "        254, 254, 254, 254, 254, 171,   0,   0,   0,   0,   0,   0,   0,\n",
              "          0,   0],\n",
              "       [  0,   0,   0,   0,   0,   0,   0,   0,   0,   0,   0,   0,  73,\n",
              "         89,  89,  93, 240, 254, 171,   0,   0,   0,   0,   0,   0,   0,\n",
              "          0,   0],\n",
              "       [  0,   0,   0,   0,   0,   0,   0,   0,   0,   0,   0,   0,   0,\n",
              "          0,   0,   1, 128, 254, 219,  31,   0,   0,   0,   0,   0,   0,\n",
              "          0,   0],\n",
              "       [  0,   0,   0,   0,   0,   0,   0,   0,   0,   0,   0,   0,   0,\n",
              "          0,   0,   7, 254, 254, 214,  28,   0,   0,   0,   0,   0,   0,\n",
              "          0,   0],\n",
              "       [  0,   0,   0,   0,   0,   0,   0,   0,   0,   0,   0,   0,   0,\n",
              "          0,   0, 138, 254, 254, 116,   0,   0,   0,   0,   0,   0,   0,\n",
              "          0,   0],\n",
              "       [  0,   0,   0,   0,   0,   0,  19, 177,  90,   0,   0,   0,   0,\n",
              "          0,  25, 240, 254, 254,  34,   0,   0,   0,   0,   0,   0,   0,\n",
              "          0,   0],\n",
              "       [  0,   0,   0,   0,   0,   0, 164, 254, 215,  63,  36,   0,  51,\n",
              "         89, 206, 254, 254, 139,   8,   0,   0,   0,   0,   0,   0,   0,\n",
              "          0,   0],\n",
              "       [  0,   0,   0,   0,   0,   0,  57, 197, 254, 254, 222, 180, 241,\n",
              "        254, 254, 253, 213,  11,   0,   0,   0,   0,   0,   0,   0,   0,\n",
              "          0,   0],\n",
              "       [  0,   0,   0,   0,   0,   0,   0, 140, 105, 254, 254, 254, 254,\n",
              "        254, 254, 236,   0,   0,   0,   0,   0,   0,   0,   0,   0,   0,\n",
              "          0,   0],\n",
              "       [  0,   0,   0,   0,   0,   0,   0,   0,   7, 117, 117, 165, 254,\n",
              "        254, 239,  50,   0,   0,   0,   0,   0,   0,   0,   0,   0,   0,\n",
              "          0,   0],\n",
              "       [  0,   0,   0,   0,   0,   0,   0,   0,   0,   0,   0,   0,   0,\n",
              "          0,   0,   0,   0,   0,   0,   0,   0,   0,   0,   0,   0,   0,\n",
              "          0,   0],\n",
              "       [  0,   0,   0,   0,   0,   0,   0,   0,   0,   0,   0,   0,   0,\n",
              "          0,   0,   0,   0,   0,   0,   0,   0,   0,   0,   0,   0,   0,\n",
              "          0,   0],\n",
              "       [  0,   0,   0,   0,   0,   0,   0,   0,   0,   0,   0,   0,   0,\n",
              "          0,   0,   0,   0,   0,   0,   0,   0,   0,   0,   0,   0,   0,\n",
              "          0,   0],\n",
              "       [  0,   0,   0,   0,   0,   0,   0,   0,   0,   0,   0,   0,   0,\n",
              "          0,   0,   0,   0,   0,   0,   0,   0,   0,   0,   0,   0,   0,\n",
              "          0,   0]], dtype=uint8)</pre></div><script>\n",
              "      (() => {\n",
              "      const titles = ['show data', 'hide data'];\n",
              "      let index = 0\n",
              "      document.querySelector('#id-6d5590ff-9be9-42e5-95cb-52f8a20a4e11 button').onclick = (e) => {\n",
              "        document.querySelector('#id-6d5590ff-9be9-42e5-95cb-52f8a20a4e11').classList.toggle('show_array');\n",
              "        index = (++index) % 2;\n",
              "        document.querySelector('#id-6d5590ff-9be9-42e5-95cb-52f8a20a4e11 button').textContent = titles[index];\n",
              "        e.preventDefault();\n",
              "        e.stopPropagation();\n",
              "      }\n",
              "      })();\n",
              "    </script>"
            ]
          },
          "metadata": {},
          "execution_count": 5
        }
      ]
    },
    {
      "cell_type": "code",
      "source": [
        "X_train[10].shape"
      ],
      "metadata": {
        "colab": {
          "base_uri": "https://localhost:8080/"
        },
        "id": "F5e-PgdE5pv5",
        "outputId": "4bc98b26-2d66-42ea-a3b5-09f388a664e9"
      },
      "execution_count": 6,
      "outputs": [
        {
          "output_type": "execute_result",
          "data": {
            "text/plain": [
              "(28, 28)"
            ]
          },
          "metadata": {},
          "execution_count": 6
        }
      ]
    },
    {
      "cell_type": "code",
      "source": [
        "# Displaying the image\n",
        "plt.imshow(X_train[25])\n",
        "plt.show()\n",
        "\n",
        "#Print the correponding label\n",
        "print(y_train[25])"
      ],
      "metadata": {
        "colab": {
          "base_uri": "https://localhost:8080/",
          "height": 448
        },
        "id": "BLQKrO2z5xNC",
        "outputId": "5416fa4b-d298-4a23-9260-776d83365ea5"
      },
      "execution_count": 7,
      "outputs": [
        {
          "output_type": "display_data",
          "data": {
            "text/plain": [
              "<Figure size 640x480 with 1 Axes>"
            ],
            "image/png": "[encoded data removed]"
          },
          "metadata": {}
        },
        {
          "output_type": "stream",
          "name": "stdout",
          "text": [
            "2\n"
          ]
        }
      ]
    },
    {
      "cell_type": "markdown",
      "source": [
        "Image Labels"
      ],
      "metadata": {
        "id": "AaJERREm6Wbx"
      }
    },
    {
      "cell_type": "code",
      "source": [
        "import numpy as np\n",
        "\n",
        "unique_elements, counts = np.unique(y_test, return_counts=True)\n",
        "print(\"Unique elements:\", unique_elements)\n",
        "print(\"Counts:\", counts)"
      ],
      "metadata": {
        "colab": {
          "base_uri": "https://localhost:8080/"
        },
        "id": "tWgMhAh159TX",
        "outputId": "fe6fe6f8-821a-443e-d469-a2a8c150be91"
      },
      "execution_count": 8,
      "outputs": [
        {
          "output_type": "stream",
          "name": "stdout",
          "text": [
            "Unique elements: [0 1 2 3 4 5 6 7 8 9]\n",
            "Counts: [ 980 1135 1032 1010  982  892  958 1028  974 1009]\n"
          ]
        }
      ]
    },
    {
      "cell_type": "code",
      "source": [
        "np.unique(y_train, return_counts=True)"
      ],
      "metadata": {
        "colab": {
          "base_uri": "https://localhost:8080/"
        },
        "id": "ihW6RD6x6bn3",
        "outputId": "de6393a5-3fcf-45ae-893e-db90d43fc06e"
      },
      "execution_count": 9,
      "outputs": [
        {
          "output_type": "execute_result",
          "data": {
            "text/plain": [
              "(array([0, 1, 2, 3, 4, 5, 6, 7, 8, 9], dtype=uint8),\n",
              " array([5923, 6742, 5958, 6131, 5842, 5421, 5918, 6265, 5851, 5949]))"
            ]
          },
          "metadata": {},
          "execution_count": 9
        }
      ]
    },
    {
      "cell_type": "markdown",
      "source": [
        "We can use these labels as such or we can also apply one Hot Encoding\n",
        "\n",
        "All the iimages have the same dimensions in this dataset, if not, we have to resize all the images to a common dimentions"
      ],
      "metadata": {
        "id": "zIm1_-1pfQCp"
      }
    },
    {
      "cell_type": "code",
      "source": [
        "# scaling the values\n",
        "X_train_scaled = X_train/255\n",
        "X_test_scaled = X_test/255"
      ],
      "metadata": {
        "id": "bDNFG38xfMMf"
      },
      "execution_count": 10,
      "outputs": []
    },
    {
      "cell_type": "code",
      "source": [
        "# setting up the layers of the Neural Network\n",
        "\n",
        "model = keras.Sequential([\n",
        "    keras.layers.Flatten(input_shape=(28,28)),\n",
        "    keras.layers.Dense(50, activation='relu'),\n",
        "    keras.layers.Dense(50, activation='relu'),\n",
        "    keras.layers.Dense(10, activation='sigmoid')\n",
        "])"
      ],
      "metadata": {
        "colab": {
          "base_uri": "https://localhost:8080/"
        },
        "id": "y0C3Ab7Zj674",
        "outputId": "3d583dd1-167f-497e-8faa-e1407422db91"
      },
      "execution_count": 11,
      "outputs": [
        {
          "output_type": "stream",
          "name": "stderr",
          "text": [
            "/usr/local/lib/python3.11/dist-packages/keras/src/layers/reshaping/flatten.py:37: UserWarning: Do not pass an `input_shape`/`input_dim` argument to a layer. When using Sequential models, prefer using an `Input(shape)` object as the first layer in the model instead.\n",
            "  super().__init__(**kwargs)\n"
          ]
        }
      ]
    },
    {
      "cell_type": "code",
      "source": [
        "# compiling the Neural Network\n",
        "\n",
        "model.compile(optimizer='Adam',\n",
        "              loss = 'sparse_categorical_crossentropy',\n",
        "              metrics = ['accuracy'])"
      ],
      "metadata": {
        "id": "hhmsmNmIoGIu"
      },
      "execution_count": 12,
      "outputs": []
    },
    {
      "cell_type": "code",
      "source": [
        "# training the Neural Network\n",
        "model.fit(X_train_scaled, y_train, epochs=10)"
      ],
      "metadata": {
        "colab": {
          "base_uri": "https://localhost:8080/"
        },
        "id": "6LiTokuwo4e1",
        "outputId": "2b8b8701-169f-4688-ac4d-0866404acdf2"
      },
      "execution_count": 13,
      "outputs": [
        {
          "output_type": "stream",
          "name": "stdout",
          "text": [
            "Epoch 1/10\n",
            "\u001b[1m1875/1875\u001b[0m \u001b[32m━━━━━━━━━━━━━━━━━━━━\u001b[0m\u001b[37m\u001b[0m \u001b[1m6s\u001b[0m 2ms/step - accuracy: 0.8473 - loss: 0.5179\n",
            "Epoch 2/10\n",
            "\u001b[1m1875/1875\u001b[0m \u001b[32m━━━━━━━━━━━━━━━━━━━━\u001b[0m\u001b[37m\u001b[0m \u001b[1m4s\u001b[0m 2ms/step - accuracy: 0.9542 - loss: 0.1572\n",
            "Epoch 3/10\n",
            "\u001b[1m1875/1875\u001b[0m \u001b[32m━━━━━━━━━━━━━━━━━━━━\u001b[0m\u001b[37m\u001b[0m \u001b[1m5s\u001b[0m 3ms/step - accuracy: 0.9664 - loss: 0.1124\n",
            "Epoch 4/10\n",
            "\u001b[1m1875/1875\u001b[0m \u001b[32m━━━━━━━━━━━━━━━━━━━━\u001b[0m\u001b[37m\u001b[0m \u001b[1m4s\u001b[0m 2ms/step - accuracy: 0.9749 - loss: 0.0861\n",
            "Epoch 5/10\n",
            "\u001b[1m1875/1875\u001b[0m \u001b[32m━━━━━━━━━━━━━━━━━━━━\u001b[0m\u001b[37m\u001b[0m \u001b[1m4s\u001b[0m 2ms/step - accuracy: 0.9789 - loss: 0.0708\n",
            "Epoch 6/10\n",
            "\u001b[1m1875/1875\u001b[0m \u001b[32m━━━━━━━━━━━━━━━━━━━━\u001b[0m\u001b[37m\u001b[0m \u001b[1m6s\u001b[0m 3ms/step - accuracy: 0.9835 - loss: 0.0579\n",
            "Epoch 7/10\n",
            "\u001b[1m1875/1875\u001b[0m \u001b[32m━━━━━━━━━━━━━━━━━━━━\u001b[0m\u001b[37m\u001b[0m \u001b[1m4s\u001b[0m 2ms/step - accuracy: 0.9860 - loss: 0.0491\n",
            "Epoch 8/10\n",
            "\u001b[1m1875/1875\u001b[0m \u001b[32m━━━━━━━━━━━━━━━━━━━━\u001b[0m\u001b[37m\u001b[0m \u001b[1m6s\u001b[0m 2ms/step - accuracy: 0.9881 - loss: 0.0418\n",
            "Epoch 9/10\n",
            "\u001b[1m1875/1875\u001b[0m \u001b[32m━━━━━━━━━━━━━━━━━━━━\u001b[0m\u001b[37m\u001b[0m \u001b[1m5s\u001b[0m 2ms/step - accuracy: 0.9901 - loss: 0.0356\n",
            "Epoch 10/10\n",
            "\u001b[1m1875/1875\u001b[0m \u001b[32m━━━━━━━━━━━━━━━━━━━━\u001b[0m\u001b[37m\u001b[0m \u001b[1m4s\u001b[0m 2ms/step - accuracy: 0.9902 - loss: 0.0318\n"
          ]
        },
        {
          "output_type": "execute_result",
          "data": {
            "text/plain": [
              "<keras.src.callbacks.history.History at 0x7b52872fa110>"
            ]
          },
          "metadata": {},
          "execution_count": 13
        }
      ]
    },
    {
      "cell_type": "markdown",
      "source": [
        "The Training data accuracy = 99.01%\n",
        "\n",
        "**Accuracy on Test data:**"
      ],
      "metadata": {
        "id": "xrkEydtGqXna"
      }
    },
    {
      "cell_type": "code",
      "source": [
        "loss, accuracy  = model.evaluate(X_test_scaled, y_test)\n",
        "print(f\"Test Loss: {loss}\")\n",
        "print(f\"Test Accuracy: {accuracy}\")"
      ],
      "metadata": {
        "colab": {
          "base_uri": "https://localhost:8080/"
        },
        "id": "omyFrA24p7Zk",
        "outputId": "f47b8ad8-4a43-49c7-a340-a22b90486306"
      },
      "execution_count": 14,
      "outputs": [
        {
          "output_type": "stream",
          "name": "stdout",
          "text": [
            "\u001b[1m313/313\u001b[0m \u001b[32m━━━━━━━━━━━━━━━━━━━━\u001b[0m\u001b[37m\u001b[0m \u001b[1m1s\u001b[0m 2ms/step - accuracy: 0.9666 - loss: 0.1329\n",
            "Test Loss: 0.12251800298690796\n",
            "Test Accuracy: 0.9684000015258789\n"
          ]
        }
      ]
    },
    {
      "cell_type": "code",
      "source": [
        "# First data  point in X_test\n",
        "plt.imshow(X_test[0])\n",
        "plt.show()"
      ],
      "metadata": {
        "colab": {
          "base_uri": "https://localhost:8080/",
          "height": 430
        },
        "id": "vTHHXKzrqla4",
        "outputId": "40657f23-fe6b-4f21-fb3a-1bd866162778"
      },
      "execution_count": 15,
      "outputs": [
        {
          "output_type": "display_data",
          "data": {
            "text/plain": [
              "<Figure size 640x480 with 1 Axes>"
            ],
            "image/png": "[encoded data removed]"
          },
          "metadata": {}
        }
      ]
    },
    {
      "cell_type": "code",
      "source": [
        "y_test[0]"
      ],
      "metadata": {
        "colab": {
          "base_uri": "https://localhost:8080/"
        },
        "id": "XwcSqQ7SrJ9Q",
        "outputId": "ddb9df60-ef1d-468f-9a19-6125312df7af"
      },
      "execution_count": 16,
      "outputs": [
        {
          "output_type": "execute_result",
          "data": {
            "text/plain": [
              "np.uint8(7)"
            ]
          },
          "metadata": {},
          "execution_count": 16
        }
      ]
    },
    {
      "cell_type": "code",
      "source": [
        "y_pred = model.predict(X_test_scaled)\n",
        "y_pred[0]"
      ],
      "metadata": {
        "colab": {
          "base_uri": "https://localhost:8080/"
        },
        "id": "NNYTiVDUrSf3",
        "outputId": "e583be12-2ddc-46f7-b73d-d398058d9fd8"
      },
      "execution_count": 17,
      "outputs": [
        {
          "output_type": "stream",
          "name": "stdout",
          "text": [
            "\u001b[1m313/313\u001b[0m \u001b[32m━━━━━━━━━━━━━━━━━━━━\u001b[0m\u001b[37m\u001b[0m \u001b[1m0s\u001b[0m 1ms/step\n"
          ]
        },
        {
          "output_type": "execute_result",
          "data": {
            "text/plain": [
              "array([4.5121927e-03, 3.7594789e-04, 9.9552996e-02, 9.2575574e-01,\n",
              "       1.2254233e-07, 3.2779303e-01, 7.6299256e-07, 9.9999917e-01,\n",
              "       3.2840564e-03, 9.0442985e-01], dtype=float32)"
            ]
          },
          "metadata": {},
          "execution_count": 17
        }
      ]
    },
    {
      "cell_type": "code",
      "source": [
        "y_pred.shape"
      ],
      "metadata": {
        "colab": {
          "base_uri": "https://localhost:8080/"
        },
        "id": "39YA1hXPrsDz",
        "outputId": "8c1ca22f-c3bf-4532-8838-e41a5da6305b"
      },
      "execution_count": 18,
      "outputs": [
        {
          "output_type": "execute_result",
          "data": {
            "text/plain": [
              "(10000, 10)"
            ]
          },
          "metadata": {},
          "execution_count": 18
        }
      ]
    },
    {
      "cell_type": "code",
      "source": [
        "y_pred[0]"
      ],
      "metadata": {
        "colab": {
          "base_uri": "https://localhost:8080/"
        },
        "id": "nAIbvAHSrsw_",
        "outputId": "235fb5ec-ec66-4d3d-c715-a30d3a3c63be"
      },
      "execution_count": 19,
      "outputs": [
        {
          "output_type": "execute_result",
          "data": {
            "text/plain": [
              "array([4.5121927e-03, 3.7594789e-04, 9.9552996e-02, 9.2575574e-01,\n",
              "       1.2254233e-07, 3.2779303e-01, 7.6299256e-07, 9.9999917e-01,\n",
              "       3.2840564e-03, 9.0442985e-01], dtype=float32)"
            ]
          },
          "metadata": {},
          "execution_count": 19
        }
      ]
    },
    {
      "cell_type": "markdown",
      "source": [
        "model.predict() gives the prediction probability of each class for that data  point"
      ],
      "metadata": {
        "id": "owzxcIu0sBpn"
      }
    },
    {
      "cell_type": "code",
      "source": [
        "# Converting the prediction probabilities to class label\n",
        "np.argmax(y_pred[0])"
      ],
      "metadata": {
        "colab": {
          "base_uri": "https://localhost:8080/"
        },
        "id": "4VIPdhMJrwps",
        "outputId": "229d3d1d-520c-486f-fe8b-ce7d81938cf3"
      },
      "execution_count": 20,
      "outputs": [
        {
          "output_type": "execute_result",
          "data": {
            "text/plain": [
              "np.int64(7)"
            ]
          },
          "metadata": {},
          "execution_count": 20
        }
      ]
    },
    {
      "cell_type": "code",
      "source": [
        "# Converting the prediction probabilities to class label for all test data points\n",
        "y_pred_labels = [np.argmax(i) for i in y_pred]\n",
        "y_pred_labels"
      ],
      "metadata": {
        "colab": {
          "base_uri": "https://localhost:8080/"
        },
        "collapsed": true,
        "id": "Y2F4_BUWsbc4",
        "outputId": "ff479d5e-b119-4033-82a5-9f43429662df"
      },
      "execution_count": 21,
      "outputs": [
        {
          "output_type": "execute_result",
          "data": {
            "text/plain": [
              "[np.int64(7),\n",
              " np.int64(2),\n",
              " np.int64(1),\n",
              " np.int64(0),\n",
              " np.int64(4),\n",
              " np.int64(1),\n",
              " np.int64(4),\n",
              " np.int64(9),\n",
              " np.int64(5),\n",
              " np.int64(9),\n",
              " np.int64(0),\n",
              " np.int64(6),\n",
              " np.int64(9),\n",
              " np.int64(0),\n",
              " np.int64(1),\n",
              " np.int64(5),\n",
              " np.int64(9),\n",
              " np.int64(7),\n",
              " np.int64(3),\n",
              " np.int64(4),\n",
              " np.int64(9),\n",
              " np.int64(6),\n",
              " np.int64(6),\n",
              " np.int64(5),\n",
              " np.int64(4),\n",
              " np.int64(0),\n",
              " np.int64(7),\n",
              " np.int64(4),\n",
              " np.int64(0),\n",
              " np.int64(1),\n",
              " np.int64(3),\n",
              " np.int64(1),\n",
              " np.int64(3),\n",
              " np.int64(4),\n",
              " np.int64(7),\n",
              " np.int64(2),\n",
              " np.int64(7),\n",
              " np.int64(1),\n",
              " np.int64(2),\n",
              " np.int64(1),\n",
              " np.int64(1),\n",
              " np.int64(7),\n",
              " np.int64(4),\n",
              " np.int64(2),\n",
              " np.int64(3),\n",
              " np.int64(5),\n",
              " np.int64(1),\n",
              " np.int64(2),\n",
              " np.int64(4),\n",
              " np.int64(4),\n",
              " np.int64(6),\n",
              " np.int64(3),\n",
              " np.int64(5),\n",
              " np.int64(5),\n",
              " np.int64(6),\n",
              " np.int64(0),\n",
              " np.int64(4),\n",
              " np.int64(1),\n",
              " np.int64(9),\n",
              " np.int64(5),\n",
              " np.int64(7),\n",
              " np.int64(8),\n",
              " np.int64(9),\n",
              " np.int64(3),\n",
              " np.int64(7),\n",
              " np.int64(4),\n",
              " np.int64(6),\n",
              " np.int64(4),\n",
              " np.int64(3),\n",
              " np.int64(0),\n",
              " np.int64(7),\n",
              " np.int64(0),\n",
              " np.int64(2),\n",
              " np.int64(9),\n",
              " np.int64(1),\n",
              " np.int64(7),\n",
              " np.int64(3),\n",
              " np.int64(2),\n",
              " np.int64(9),\n",
              " np.int64(7),\n",
              " np.int64(7),\n",
              " np.int64(6),\n",
              " np.int64(2),\n",
              " np.int64(7),\n",
              " np.int64(8),\n",
              " np.int64(4),\n",
              " np.int64(7),\n",
              " np.int64(3),\n",
              " np.int64(6),\n",
              " np.int64(1),\n",
              " np.int64(3),\n",
              " np.int64(6),\n",
              " np.int64(9),\n",
              " np.int64(3),\n",
              " np.int64(1),\n",
              " np.int64(4),\n",
              " np.int64(1),\n",
              " np.int64(7),\n",
              " np.int64(6),\n",
              " np.int64(9),\n",
              " np.int64(6),\n",
              " np.int64(0),\n",
              " np.int64(5),\n",
              " np.int64(4),\n",
              " np.int64(9),\n",
              " np.int64(9),\n",
              " np.int64(2),\n",
              " np.int64(1),\n",
              " np.int64(9),\n",
              " np.int64(4),\n",
              " np.int64(8),\n",
              " np.int64(7),\n",
              " np.int64(3),\n",
              " np.int64(9),\n",
              " np.int64(7),\n",
              " np.int64(4),\n",
              " np.int64(4),\n",
              " np.int64(4),\n",
              " np.int64(9),\n",
              " np.int64(2),\n",
              " np.int64(5),\n",
              " np.int64(4),\n",
              " np.int64(7),\n",
              " np.int64(6),\n",
              " np.int64(7),\n",
              " np.int64(9),\n",
              " np.int64(0),\n",
              " np.int64(5),\n",
              " np.int64(8),\n",
              " np.int64(5),\n",
              " np.int64(6),\n",
              " np.int64(6),\n",
              " np.int64(5),\n",
              " np.int64(7),\n",
              " np.int64(8),\n",
              " np.int64(1),\n",
              " np.int64(0),\n",
              " np.int64(1),\n",
              " np.int64(6),\n",
              " np.int64(4),\n",
              " np.int64(6),\n",
              " np.int64(7),\n",
              " np.int64(3),\n",
              " np.int64(1),\n",
              " np.int64(7),\n",
              " np.int64(1),\n",
              " np.int64(8),\n",
              " np.int64(2),\n",
              " np.int64(0),\n",
              " np.int64(4),\n",
              " np.int64(9),\n",
              " np.int64(9),\n",
              " np.int64(5),\n",
              " np.int64(5),\n",
              " np.int64(1),\n",
              " np.int64(5),\n",
              " np.int64(6),\n",
              " np.int64(0),\n",
              " np.int64(3),\n",
              " np.int64(4),\n",
              " np.int64(4),\n",
              " np.int64(6),\n",
              " np.int64(5),\n",
              " np.int64(4),\n",
              " np.int64(6),\n",
              " np.int64(5),\n",
              " np.int64(4),\n",
              " np.int64(5),\n",
              " np.int64(1),\n",
              " np.int64(4),\n",
              " np.int64(4),\n",
              " np.int64(7),\n",
              " np.int64(2),\n",
              " np.int64(3),\n",
              " np.int64(2),\n",
              " np.int64(7),\n",
              " np.int64(1),\n",
              " np.int64(8),\n",
              " np.int64(1),\n",
              " np.int64(8),\n",
              " np.int64(1),\n",
              " np.int64(8),\n",
              " np.int64(5),\n",
              " np.int64(0),\n",
              " np.int64(8),\n",
              " np.int64(9),\n",
              " np.int64(2),\n",
              " np.int64(5),\n",
              " np.int64(0),\n",
              " np.int64(1),\n",
              " np.int64(1),\n",
              " np.int64(1),\n",
              " np.int64(0),\n",
              " np.int64(9),\n",
              " np.int64(0),\n",
              " np.int64(3),\n",
              " np.int64(1),\n",
              " np.int64(6),\n",
              " np.int64(4),\n",
              " np.int64(2),\n",
              " np.int64(3),\n",
              " np.int64(6),\n",
              " np.int64(1),\n",
              " np.int64(1),\n",
              " np.int64(1),\n",
              " np.int64(3),\n",
              " np.int64(9),\n",
              " np.int64(5),\n",
              " np.int64(2),\n",
              " np.int64(9),\n",
              " np.int64(4),\n",
              " np.int64(5),\n",
              " np.int64(9),\n",
              " np.int64(3),\n",
              " np.int64(9),\n",
              " np.int64(0),\n",
              " np.int64(3),\n",
              " np.int64(6),\n",
              " np.int64(5),\n",
              " np.int64(5),\n",
              " np.int64(7),\n",
              " np.int64(2),\n",
              " np.int64(2),\n",
              " np.int64(7),\n",
              " np.int64(1),\n",
              " np.int64(2),\n",
              " np.int64(8),\n",
              " np.int64(4),\n",
              " np.int64(1),\n",
              " np.int64(7),\n",
              " np.int64(3),\n",
              " np.int64(3),\n",
              " np.int64(8),\n",
              " np.int64(8),\n",
              " np.int64(7),\n",
              " np.int64(9),\n",
              " np.int64(2),\n",
              " np.int64(2),\n",
              " np.int64(4),\n",
              " np.int64(1),\n",
              " np.int64(5),\n",
              " np.int64(5),\n",
              " np.int64(8),\n",
              " np.int64(7),\n",
              " np.int64(2),\n",
              " np.int64(3),\n",
              " np.int64(0),\n",
              " np.int64(4),\n",
              " np.int64(4),\n",
              " np.int64(2),\n",
              " np.int64(4),\n",
              " np.int64(1),\n",
              " np.int64(9),\n",
              " np.int64(5),\n",
              " np.int64(7),\n",
              " np.int64(7),\n",
              " np.int64(2),\n",
              " np.int64(8),\n",
              " np.int64(2),\n",
              " np.int64(0),\n",
              " np.int64(8),\n",
              " np.int64(5),\n",
              " np.int64(7),\n",
              " np.int64(7),\n",
              " np.int64(9),\n",
              " np.int64(1),\n",
              " np.int64(8),\n",
              " np.int64(1),\n",
              " np.int64(8),\n",
              " np.int64(0),\n",
              " np.int64(3),\n",
              " np.int64(0),\n",
              " np.int64(1),\n",
              " np.int64(9),\n",
              " np.int64(9),\n",
              " np.int64(4),\n",
              " np.int64(1),\n",
              " np.int64(8),\n",
              " np.int64(2),\n",
              " np.int64(1),\n",
              " np.int64(2),\n",
              " np.int64(9),\n",
              " np.int64(7),\n",
              " np.int64(5),\n",
              " np.int64(9),\n",
              " np.int64(2),\n",
              " np.int64(6),\n",
              " np.int64(4),\n",
              " np.int64(1),\n",
              " np.int64(5),\n",
              " np.int64(8),\n",
              " np.int64(2),\n",
              " np.int64(9),\n",
              " np.int64(2),\n",
              " np.int64(0),\n",
              " np.int64(4),\n",
              " np.int64(0),\n",
              " np.int64(0),\n",
              " np.int64(2),\n",
              " np.int64(8),\n",
              " np.int64(4),\n",
              " np.int64(7),\n",
              " np.int64(1),\n",
              " np.int64(2),\n",
              " np.int64(4),\n",
              " np.int64(0),\n",
              " np.int64(2),\n",
              " np.int64(7),\n",
              " np.int64(4),\n",
              " np.int64(3),\n",
              " np.int64(3),\n",
              " np.int64(0),\n",
              " np.int64(0),\n",
              " np.int64(3),\n",
              " np.int64(1),\n",
              " np.int64(9),\n",
              " np.int64(6),\n",
              " np.int64(5),\n",
              " np.int64(2),\n",
              " np.int64(5),\n",
              " np.int64(9),\n",
              " np.int64(7),\n",
              " np.int64(9),\n",
              " np.int64(3),\n",
              " np.int64(0),\n",
              " np.int64(4),\n",
              " np.int64(2),\n",
              " np.int64(0),\n",
              " np.int64(7),\n",
              " np.int64(1),\n",
              " np.int64(1),\n",
              " np.int64(2),\n",
              " np.int64(1),\n",
              " np.int64(5),\n",
              " np.int64(3),\n",
              " np.int64(3),\n",
              " np.int64(9),\n",
              " np.int64(7),\n",
              " np.int64(8),\n",
              " np.int64(6),\n",
              " np.int64(3),\n",
              " np.int64(6),\n",
              " np.int64(1),\n",
              " np.int64(3),\n",
              " np.int64(8),\n",
              " np.int64(1),\n",
              " np.int64(0),\n",
              " np.int64(5),\n",
              " np.int64(1),\n",
              " np.int64(3),\n",
              " np.int64(1),\n",
              " np.int64(5),\n",
              " np.int64(5),\n",
              " np.int64(6),\n",
              " np.int64(1),\n",
              " np.int64(8),\n",
              " np.int64(5),\n",
              " np.int64(1),\n",
              " np.int64(7),\n",
              " np.int64(4),\n",
              " np.int64(4),\n",
              " np.int64(6),\n",
              " np.int64(2),\n",
              " np.int64(2),\n",
              " np.int64(5),\n",
              " np.int64(0),\n",
              " np.int64(6),\n",
              " np.int64(5),\n",
              " np.int64(6),\n",
              " np.int64(3),\n",
              " np.int64(7),\n",
              " np.int64(2),\n",
              " np.int64(0),\n",
              " np.int64(8),\n",
              " np.int64(8),\n",
              " np.int64(5),\n",
              " np.int64(4),\n",
              " np.int64(1),\n",
              " np.int64(1),\n",
              " np.int64(4),\n",
              " np.int64(0),\n",
              " np.int64(7),\n",
              " np.int64(3),\n",
              " np.int64(7),\n",
              " np.int64(6),\n",
              " np.int64(1),\n",
              " np.int64(6),\n",
              " np.int64(2),\n",
              " np.int64(1),\n",
              " np.int64(9),\n",
              " np.int64(2),\n",
              " np.int64(2),\n",
              " np.int64(6),\n",
              " np.int64(1),\n",
              " np.int64(9),\n",
              " np.int64(5),\n",
              " np.int64(2),\n",
              " np.int64(5),\n",
              " np.int64(4),\n",
              " np.int64(4),\n",
              " np.int64(2),\n",
              " np.int64(8),\n",
              " np.int64(3),\n",
              " np.int64(8),\n",
              " np.int64(2),\n",
              " np.int64(4),\n",
              " np.int64(5),\n",
              " np.int64(0),\n",
              " np.int64(3),\n",
              " np.int64(1),\n",
              " np.int64(7),\n",
              " np.int64(7),\n",
              " np.int64(5),\n",
              " np.int64(7),\n",
              " np.int64(9),\n",
              " np.int64(7),\n",
              " np.int64(1),\n",
              " np.int64(9),\n",
              " np.int64(2),\n",
              " np.int64(1),\n",
              " np.int64(4),\n",
              " np.int64(2),\n",
              " np.int64(9),\n",
              " np.int64(2),\n",
              " np.int64(0),\n",
              " np.int64(4),\n",
              " np.int64(9),\n",
              " np.int64(1),\n",
              " np.int64(4),\n",
              " np.int64(8),\n",
              " np.int64(1),\n",
              " np.int64(8),\n",
              " np.int64(4),\n",
              " np.int64(5),\n",
              " np.int64(9),\n",
              " np.int64(8),\n",
              " np.int64(8),\n",
              " np.int64(3),\n",
              " np.int64(7),\n",
              " np.int64(6),\n",
              " np.int64(0),\n",
              " np.int64(0),\n",
              " np.int64(3),\n",
              " np.int64(0),\n",
              " np.int64(2),\n",
              " np.int64(6),\n",
              " np.int64(6),\n",
              " np.int64(4),\n",
              " np.int64(9),\n",
              " np.int64(3),\n",
              " np.int64(3),\n",
              " np.int64(3),\n",
              " np.int64(2),\n",
              " np.int64(3),\n",
              " np.int64(9),\n",
              " np.int64(1),\n",
              " np.int64(2),\n",
              " np.int64(6),\n",
              " np.int64(8),\n",
              " np.int64(0),\n",
              " np.int64(5),\n",
              " np.int64(6),\n",
              " np.int64(6),\n",
              " np.int64(6),\n",
              " np.int64(3),\n",
              " np.int64(8),\n",
              " np.int64(8),\n",
              " np.int64(2),\n",
              " np.int64(7),\n",
              " np.int64(5),\n",
              " np.int64(8),\n",
              " np.int64(9),\n",
              " np.int64(6),\n",
              " np.int64(1),\n",
              " np.int64(8),\n",
              " np.int64(4),\n",
              " np.int64(1),\n",
              " np.int64(2),\n",
              " np.int64(5),\n",
              " np.int64(9),\n",
              " np.int64(1),\n",
              " np.int64(9),\n",
              " np.int64(7),\n",
              " np.int64(5),\n",
              " np.int64(4),\n",
              " np.int64(0),\n",
              " np.int64(8),\n",
              " np.int64(9),\n",
              " np.int64(9),\n",
              " np.int64(1),\n",
              " np.int64(0),\n",
              " np.int64(5),\n",
              " np.int64(2),\n",
              " np.int64(3),\n",
              " np.int64(7),\n",
              " np.int64(2),\n",
              " np.int64(9),\n",
              " np.int64(4),\n",
              " np.int64(0),\n",
              " np.int64(6),\n",
              " np.int64(3),\n",
              " np.int64(9),\n",
              " np.int64(5),\n",
              " np.int64(2),\n",
              " np.int64(1),\n",
              " np.int64(3),\n",
              " np.int64(1),\n",
              " np.int64(3),\n",
              " np.int64(6),\n",
              " np.int64(5),\n",
              " np.int64(7),\n",
              " np.int64(4),\n",
              " np.int64(2),\n",
              " np.int64(2),\n",
              " np.int64(6),\n",
              " np.int64(3),\n",
              " np.int64(2),\n",
              " np.int64(6),\n",
              " np.int64(5),\n",
              " np.int64(4),\n",
              " np.int64(8),\n",
              " np.int64(9),\n",
              " np.int64(7),\n",
              " np.int64(1),\n",
              " np.int64(3),\n",
              " np.int64(0),\n",
              " np.int64(3),\n",
              " np.int64(3),\n",
              " np.int64(3),\n",
              " np.int64(1),\n",
              " np.int64(9),\n",
              " np.int64(3),\n",
              " np.int64(4),\n",
              " np.int64(4),\n",
              " np.int64(6),\n",
              " np.int64(4),\n",
              " np.int64(2),\n",
              " np.int64(1),\n",
              " np.int64(8),\n",
              " np.int64(2),\n",
              " np.int64(5),\n",
              " np.int64(4),\n",
              " np.int64(8),\n",
              " np.int64(8),\n",
              " np.int64(4),\n",
              " np.int64(0),\n",
              " np.int64(0),\n",
              " np.int64(2),\n",
              " np.int64(3),\n",
              " np.int64(2),\n",
              " np.int64(7),\n",
              " np.int64(7),\n",
              " np.int64(0),\n",
              " np.int64(8),\n",
              " np.int64(7),\n",
              " np.int64(4),\n",
              " np.int64(4),\n",
              " np.int64(7),\n",
              " np.int64(9),\n",
              " np.int64(6),\n",
              " np.int64(9),\n",
              " np.int64(0),\n",
              " np.int64(9),\n",
              " np.int64(8),\n",
              " np.int64(0),\n",
              " np.int64(4),\n",
              " np.int64(6),\n",
              " np.int64(0),\n",
              " np.int64(6),\n",
              " np.int64(3),\n",
              " np.int64(5),\n",
              " np.int64(4),\n",
              " np.int64(8),\n",
              " np.int64(3),\n",
              " np.int64(3),\n",
              " np.int64(4),\n",
              " np.int64(3),\n",
              " np.int64(3),\n",
              " np.int64(3),\n",
              " np.int64(7),\n",
              " np.int64(8),\n",
              " np.int64(0),\n",
              " np.int64(2),\n",
              " np.int64(2),\n",
              " np.int64(1),\n",
              " np.int64(7),\n",
              " np.int64(0),\n",
              " np.int64(6),\n",
              " np.int64(5),\n",
              " np.int64(4),\n",
              " np.int64(3),\n",
              " np.int64(3),\n",
              " np.int64(0),\n",
              " np.int64(9),\n",
              " np.int64(6),\n",
              " np.int64(3),\n",
              " np.int64(8),\n",
              " np.int64(0),\n",
              " np.int64(9),\n",
              " np.int64(9),\n",
              " np.int64(6),\n",
              " np.int64(8),\n",
              " np.int64(6),\n",
              " np.int64(8),\n",
              " np.int64(5),\n",
              " np.int64(7),\n",
              " np.int64(8),\n",
              " np.int64(6),\n",
              " np.int64(0),\n",
              " np.int64(2),\n",
              " np.int64(4),\n",
              " np.int64(0),\n",
              " np.int64(2),\n",
              " np.int64(2),\n",
              " np.int64(3),\n",
              " np.int64(1),\n",
              " np.int64(9),\n",
              " np.int64(7),\n",
              " np.int64(5),\n",
              " np.int64(1),\n",
              " np.int64(0),\n",
              " np.int64(8),\n",
              " np.int64(4),\n",
              " np.int64(6),\n",
              " np.int64(2),\n",
              " np.int64(6),\n",
              " np.int64(7),\n",
              " np.int64(9),\n",
              " np.int64(3),\n",
              " np.int64(2),\n",
              " np.int64(9),\n",
              " np.int64(8),\n",
              " np.int64(2),\n",
              " np.int64(2),\n",
              " np.int64(9),\n",
              " np.int64(2),\n",
              " np.int64(7),\n",
              " np.int64(3),\n",
              " np.int64(5),\n",
              " np.int64(9),\n",
              " np.int64(1),\n",
              " np.int64(8),\n",
              " np.int64(0),\n",
              " np.int64(2),\n",
              " np.int64(0),\n",
              " np.int64(5),\n",
              " np.int64(2),\n",
              " np.int64(1),\n",
              " np.int64(3),\n",
              " np.int64(7),\n",
              " np.int64(6),\n",
              " np.int64(7),\n",
              " np.int64(1),\n",
              " np.int64(2),\n",
              " np.int64(5),\n",
              " np.int64(8),\n",
              " np.int64(0),\n",
              " np.int64(3),\n",
              " np.int64(7),\n",
              " np.int64(3),\n",
              " np.int64(4),\n",
              " np.int64(0),\n",
              " np.int64(9),\n",
              " np.int64(1),\n",
              " np.int64(8),\n",
              " np.int64(6),\n",
              " np.int64(7),\n",
              " np.int64(7),\n",
              " np.int64(4),\n",
              " np.int64(3),\n",
              " np.int64(4),\n",
              " np.int64(9),\n",
              " np.int64(1),\n",
              " np.int64(9),\n",
              " np.int64(3),\n",
              " np.int64(1),\n",
              " np.int64(7),\n",
              " np.int64(3),\n",
              " np.int64(9),\n",
              " np.int64(7),\n",
              " np.int64(6),\n",
              " np.int64(9),\n",
              " np.int64(1),\n",
              " np.int64(3),\n",
              " np.int64(7),\n",
              " np.int64(8),\n",
              " np.int64(3),\n",
              " np.int64(3),\n",
              " np.int64(6),\n",
              " np.int64(7),\n",
              " np.int64(2),\n",
              " np.int64(4),\n",
              " np.int64(5),\n",
              " np.int64(8),\n",
              " np.int64(5),\n",
              " np.int64(1),\n",
              " np.int64(1),\n",
              " np.int64(4),\n",
              " np.int64(4),\n",
              " np.int64(3),\n",
              " np.int64(1),\n",
              " np.int64(0),\n",
              " np.int64(7),\n",
              " np.int64(7),\n",
              " np.int64(0),\n",
              " np.int64(7),\n",
              " np.int64(9),\n",
              " np.int64(4),\n",
              " np.int64(4),\n",
              " np.int64(8),\n",
              " np.int64(5),\n",
              " np.int64(5),\n",
              " np.int64(4),\n",
              " np.int64(0),\n",
              " np.int64(8),\n",
              " np.int64(2),\n",
              " np.int64(1),\n",
              " np.int64(0),\n",
              " np.int64(8),\n",
              " np.int64(4),\n",
              " np.int64(8),\n",
              " np.int64(0),\n",
              " np.int64(4),\n",
              " np.int64(0),\n",
              " np.int64(6),\n",
              " np.int64(1),\n",
              " np.int64(7),\n",
              " np.int64(3),\n",
              " np.int64(2),\n",
              " np.int64(6),\n",
              " np.int64(7),\n",
              " np.int64(2),\n",
              " np.int64(6),\n",
              " np.int64(9),\n",
              " np.int64(3),\n",
              " np.int64(1),\n",
              " np.int64(4),\n",
              " np.int64(6),\n",
              " np.int64(2),\n",
              " np.int64(5),\n",
              " np.int64(9),\n",
              " np.int64(2),\n",
              " np.int64(0),\n",
              " np.int64(6),\n",
              " np.int64(2),\n",
              " np.int64(1),\n",
              " np.int64(7),\n",
              " np.int64(3),\n",
              " np.int64(4),\n",
              " np.int64(1),\n",
              " np.int64(0),\n",
              " np.int64(5),\n",
              " np.int64(4),\n",
              " np.int64(3),\n",
              " np.int64(1),\n",
              " np.int64(1),\n",
              " np.int64(7),\n",
              " np.int64(4),\n",
              " np.int64(9),\n",
              " np.int64(9),\n",
              " np.int64(4),\n",
              " np.int64(8),\n",
              " np.int64(4),\n",
              " np.int64(0),\n",
              " np.int64(2),\n",
              " np.int64(4),\n",
              " np.int64(5),\n",
              " np.int64(1),\n",
              " np.int64(1),\n",
              " np.int64(6),\n",
              " np.int64(4),\n",
              " np.int64(7),\n",
              " np.int64(1),\n",
              " np.int64(9),\n",
              " np.int64(4),\n",
              " np.int64(2),\n",
              " np.int64(4),\n",
              " np.int64(1),\n",
              " np.int64(5),\n",
              " np.int64(5),\n",
              " np.int64(3),\n",
              " np.int64(8),\n",
              " np.int64(3),\n",
              " np.int64(1),\n",
              " np.int64(4),\n",
              " np.int64(5),\n",
              " np.int64(6),\n",
              " np.int64(8),\n",
              " np.int64(9),\n",
              " np.int64(4),\n",
              " np.int64(1),\n",
              " np.int64(5),\n",
              " np.int64(3),\n",
              " np.int64(8),\n",
              " np.int64(0),\n",
              " np.int64(3),\n",
              " np.int64(2),\n",
              " np.int64(5),\n",
              " np.int64(1),\n",
              " np.int64(2),\n",
              " np.int64(8),\n",
              " np.int64(3),\n",
              " np.int64(4),\n",
              " np.int64(4),\n",
              " np.int64(0),\n",
              " np.int64(8),\n",
              " np.int64(8),\n",
              " np.int64(3),\n",
              " np.int64(3),\n",
              " np.int64(1),\n",
              " np.int64(7),\n",
              " np.int64(3),\n",
              " np.int64(5),\n",
              " np.int64(9),\n",
              " np.int64(6),\n",
              " np.int64(3),\n",
              " np.int64(2),\n",
              " np.int64(6),\n",
              " np.int64(1),\n",
              " np.int64(3),\n",
              " np.int64(6),\n",
              " np.int64(0),\n",
              " np.int64(7),\n",
              " np.int64(2),\n",
              " np.int64(1),\n",
              " np.int64(7),\n",
              " np.int64(1),\n",
              " np.int64(4),\n",
              " np.int64(2),\n",
              " np.int64(4),\n",
              " np.int64(2),\n",
              " np.int64(1),\n",
              " np.int64(7),\n",
              " np.int64(9),\n",
              " np.int64(6),\n",
              " np.int64(1),\n",
              " np.int64(1),\n",
              " np.int64(2),\n",
              " np.int64(4),\n",
              " np.int64(8),\n",
              " np.int64(1),\n",
              " np.int64(7),\n",
              " np.int64(7),\n",
              " np.int64(4),\n",
              " np.int64(7),\n",
              " np.int64(0),\n",
              " np.int64(9),\n",
              " np.int64(3),\n",
              " np.int64(1),\n",
              " np.int64(3),\n",
              " np.int64(1),\n",
              " np.int64(0),\n",
              " np.int64(7),\n",
              " np.int64(7),\n",
              " np.int64(0),\n",
              " np.int64(3),\n",
              " np.int64(5),\n",
              " np.int64(5),\n",
              " np.int64(2),\n",
              " np.int64(7),\n",
              " np.int64(6),\n",
              " np.int64(6),\n",
              " np.int64(9),\n",
              " np.int64(2),\n",
              " np.int64(8),\n",
              " np.int64(3),\n",
              " np.int64(5),\n",
              " np.int64(2),\n",
              " np.int64(2),\n",
              " np.int64(5),\n",
              " np.int64(6),\n",
              " np.int64(0),\n",
              " np.int64(8),\n",
              " np.int64(2),\n",
              " np.int64(9),\n",
              " np.int64(2),\n",
              " np.int64(8),\n",
              " np.int64(6),\n",
              " np.int64(8),\n",
              " np.int64(8),\n",
              " np.int64(7),\n",
              " np.int64(4),\n",
              " np.int64(7),\n",
              " np.int64(3),\n",
              " np.int64(0),\n",
              " np.int64(6),\n",
              " np.int64(6),\n",
              " np.int64(3),\n",
              " np.int64(2),\n",
              " np.int64(1),\n",
              " np.int64(3),\n",
              " np.int64(2),\n",
              " np.int64(2),\n",
              " np.int64(9),\n",
              " np.int64(3),\n",
              " np.int64(0),\n",
              " np.int64(0),\n",
              " np.int64(5),\n",
              " np.int64(7),\n",
              " np.int64(8),\n",
              " np.int64(3),\n",
              " np.int64(4),\n",
              " np.int64(4),\n",
              " np.int64(6),\n",
              " np.int64(0),\n",
              " np.int64(2),\n",
              " np.int64(9),\n",
              " np.int64(1),\n",
              " np.int64(4),\n",
              " np.int64(7),\n",
              " np.int64(4),\n",
              " np.int64(7),\n",
              " np.int64(3),\n",
              " np.int64(9),\n",
              " np.int64(8),\n",
              " np.int64(8),\n",
              " np.int64(4),\n",
              " np.int64(7),\n",
              " np.int64(1),\n",
              " np.int64(2),\n",
              " np.int64(1),\n",
              " np.int64(2),\n",
              " np.int64(2),\n",
              " np.int64(3),\n",
              " np.int64(2),\n",
              " np.int64(3),\n",
              " np.int64(2),\n",
              " np.int64(3),\n",
              " np.int64(9),\n",
              " np.int64(1),\n",
              " np.int64(7),\n",
              " np.int64(4),\n",
              " np.int64(0),\n",
              " np.int64(3),\n",
              " np.int64(5),\n",
              " np.int64(5),\n",
              " np.int64(8),\n",
              " np.int64(6),\n",
              " np.int64(3),\n",
              " np.int64(2),\n",
              " np.int64(6),\n",
              " np.int64(7),\n",
              " np.int64(6),\n",
              " np.int64(6),\n",
              " np.int64(3),\n",
              " np.int64(2),\n",
              " np.int64(7),\n",
              " np.int64(9),\n",
              " np.int64(1),\n",
              " np.int64(1),\n",
              " np.int64(7),\n",
              " np.int64(4),\n",
              " np.int64(6),\n",
              " np.int64(4),\n",
              " np.int64(9),\n",
              " np.int64(5),\n",
              " np.int64(5),\n",
              " np.int64(3),\n",
              " np.int64(3),\n",
              " np.int64(4),\n",
              " np.int64(7),\n",
              " np.int64(8),\n",
              " np.int64(9),\n",
              " np.int64(1),\n",
              " np.int64(1),\n",
              " np.int64(6),\n",
              " np.int64(9),\n",
              " np.int64(1),\n",
              " np.int64(4),\n",
              " np.int64(4),\n",
              " np.int64(5),\n",
              " np.int64(4),\n",
              " np.int64(0),\n",
              " np.int64(6),\n",
              " np.int64(2),\n",
              " np.int64(3),\n",
              " np.int64(3),\n",
              " np.int64(1),\n",
              " np.int64(5),\n",
              " np.int64(1),\n",
              " np.int64(2),\n",
              " np.int64(0),\n",
              " np.int64(3),\n",
              " np.int64(8),\n",
              " np.int64(1),\n",
              " np.int64(2),\n",
              " np.int64(6),\n",
              " np.int64(7),\n",
              " np.int64(1),\n",
              " np.int64(6),\n",
              " np.int64(2),\n",
              " np.int64(3),\n",
              " np.int64(4),\n",
              " np.int64(0),\n",
              " np.int64(1),\n",
              " np.int64(2),\n",
              " np.int64(2),\n",
              " np.int64(0),\n",
              " np.int64(8),\n",
              " np.int64(9),\n",
              " ...]"
            ]
          },
          "metadata": {},
          "execution_count": 21
        }
      ]
    },
    {
      "cell_type": "markdown",
      "source": [
        "y_test --->True Labels\n",
        "\n",
        "y_pred ---> predicted labels"
      ],
      "metadata": {
        "id": "yJTv9v0Ftp6Z"
      }
    },
    {
      "cell_type": "code",
      "source": [
        "# Confusion Matrix\n",
        "conf_matrix = confusion_matrix(y_test, y_pred_labels)\n",
        "conf_matrix"
      ],
      "metadata": {
        "colab": {
          "base_uri": "https://localhost:8080/"
        },
        "id": "rQwYaTnetUT5",
        "outputId": "e4a39c26-017d-4f30-e35d-9cc9c77fa208"
      },
      "execution_count": 22,
      "outputs": [
        {
          "output_type": "execute_result",
          "data": {
            "text/plain": [
              "<tf.Tensor: shape=(10, 10), dtype=int32, numpy=\n",
              "array([[ 966,    0,    0,    3,    2,    1,    4,    0,    0,    4],\n",
              "       [   0, 1121,    1,    3,    1,    2,    4,    0,    3,    0],\n",
              "       [   1,    3,  992,   13,    8,    1,    2,    8,    4,    0],\n",
              "       [   0,    0,    3,  990,    2,    5,    0,    4,    1,    5],\n",
              "       [   0,    2,    3,    1,  958,    1,    6,    2,    0,    9],\n",
              "       [   2,    0,    0,   15,    2,  862,    5,    0,    3,    3],\n",
              "       [   2,    2,    0,    1,    8,    5,  937,    1,    2,    0],\n",
              "       [   0,    0,    5,    6,    2,    1,    0,  998,    0,   16],\n",
              "       [   2,    1,    4,   29,   10,    8,   11,    7,  889,   13],\n",
              "       [   2,    1,    0,    5,   27,    3,    0,    6,    0,  965]],\n",
              "      dtype=int32)>"
            ]
          },
          "metadata": {},
          "execution_count": 22
        }
      ]
    },
    {
      "cell_type": "code",
      "source": [
        "plt.figure(figsize=(15,7))\n",
        "sns.heatmap(conf_matrix, annot=True, fmt='d', cmap='Blues')\n",
        "plt.ylabel('True Labels')\n",
        "plt.xlabel('Predicted Labels')"
      ],
      "metadata": {
        "colab": {
          "base_uri": "https://localhost:8080/",
          "height": 512
        },
        "id": "1wUmqxo3uDnF",
        "outputId": "6c1379ea-b4a7-4ef1-8120-0b7ec9a558cd"
      },
      "execution_count": 23,
      "outputs": [
        {
          "output_type": "execute_result",
          "data": {
            "text/plain": [
              "Text(0.5, 47.7222222222222, 'Predicted Labels')"
            ]
          },
          "metadata": {},
          "execution_count": 23
        },
        {
          "output_type": "display_data",
          "data": {
            "text/plain": [
              "<Figure size 1500x700 with 2 Axes>"
            ],
            "image/png": "[encoded data removed]"
          },
          "metadata": {}
        }
      ]
    },
    {
      "cell_type": "code",
      "source": [
        "import cv2"
      ],
      "metadata": {
        "id": "gXczRtLiWUk5"
      },
      "execution_count": 24,
      "outputs": []
    },
    {
      "cell_type": "markdown",
      "source": [
        "Building predictive system"
      ],
      "metadata": {
        "id": "0yc8t92GxNVz"
      }
    },
    {
      "cell_type": "code",
      "source": [
        "input_image_path = '/content/MNIST_digit.png'\n",
        "input_image = cv2.imread(input_image_path)"
      ],
      "metadata": {
        "id": "R7xZKqrHuc2z"
      },
      "execution_count": 25,
      "outputs": []
    },
    {
      "cell_type": "code",
      "source": [
        "print(input_image)"
      ],
      "metadata": {
        "colab": {
          "base_uri": "https://localhost:8080/"
        },
        "collapsed": true,
        "id": "7v0MEOrzV_zs",
        "outputId": "259561b0-2e91-4aca-e522-cb9bbcf2beaa"
      },
      "execution_count": 26,
      "outputs": [
        {
          "output_type": "stream",
          "name": "stdout",
          "text": [
            "[[[0 0 0]\n",
            "  [0 0 0]\n",
            "  [0 0 0]\n",
            "  ...\n",
            "  [0 0 0]\n",
            "  [0 0 0]\n",
            "  [0 0 0]]\n",
            "\n",
            " [[0 0 0]\n",
            "  [0 0 0]\n",
            "  [0 0 0]\n",
            "  ...\n",
            "  [0 0 0]\n",
            "  [0 0 0]\n",
            "  [0 0 0]]\n",
            "\n",
            " [[0 0 0]\n",
            "  [0 0 0]\n",
            "  [0 0 0]\n",
            "  ...\n",
            "  [0 0 0]\n",
            "  [0 0 0]\n",
            "  [0 0 0]]\n",
            "\n",
            " ...\n",
            "\n",
            " [[0 0 0]\n",
            "  [0 0 0]\n",
            "  [0 0 0]\n",
            "  ...\n",
            "  [0 0 0]\n",
            "  [0 0 0]\n",
            "  [0 0 0]]\n",
            "\n",
            " [[0 0 0]\n",
            "  [0 0 0]\n",
            "  [0 0 0]\n",
            "  ...\n",
            "  [0 0 0]\n",
            "  [0 0 0]\n",
            "  [0 0 0]]\n",
            "\n",
            " [[0 0 0]\n",
            "  [0 0 0]\n",
            "  [0 0 0]\n",
            "  ...\n",
            "  [0 0 0]\n",
            "  [0 0 0]\n",
            "  [0 0 0]]]\n"
          ]
        }
      ]
    },
    {
      "cell_type": "code",
      "source": [
        "cv2_imshow(input_image)"
      ],
      "metadata": {
        "colab": {
          "base_uri": "https://localhost:8080/",
          "height": 335
        },
        "id": "kuXZ8Na6Wlc4",
        "outputId": "d764c32e-4730-42f1-8967-694341b047ed"
      },
      "execution_count": 27,
      "outputs": [
        {
          "output_type": "display_data",
          "data": {
            "text/plain": [
              "<PIL.Image.Image image mode=RGB size=318x318>"
            ],
            "image/png": "[encoded data removed]",
            "image/jpeg": "[encoded data removed]"
          },
          "metadata": {}
        }
      ]
    },
    {
      "cell_type": "code",
      "source": [
        "input_image.shape"
      ],
      "metadata": {
        "colab": {
          "base_uri": "https://localhost:8080/"
        },
        "id": "hUTJKcFMYicJ",
        "outputId": "f4051ef6-2b9c-4838-8a37-811ee9f3d725"
      },
      "execution_count": 28,
      "outputs": [
        {
          "output_type": "execute_result",
          "data": {
            "text/plain": [
              "(318, 318, 3)"
            ]
          },
          "metadata": {},
          "execution_count": 28
        }
      ]
    },
    {
      "cell_type": "code",
      "source": [
        "grayscale = cv2.cvtColor(input_image, cv2.COLOR_BGR2GRAY)\n",
        "cv2_imshow(grayscale)"
      ],
      "metadata": {
        "colab": {
          "base_uri": "https://localhost:8080/",
          "height": 335
        },
        "id": "LFkMgUsoYmkF",
        "outputId": "d2e59ae2-e242-4f2d-f0f7-ee2128e19046"
      },
      "execution_count": 29,
      "outputs": [
        {
          "output_type": "display_data",
          "data": {
            "text/plain": [
              "<PIL.Image.Image image mode=L size=318x318>"
            ],
            "image/png": "[encoded data removed]",
            "image/jpeg": "[encoded data removed]"
          },
          "metadata": {}
        }
      ]
    },
    {
      "cell_type": "code",
      "source": [
        "grayscale.shape"
      ],
      "metadata": {
        "colab": {
          "base_uri": "https://localhost:8080/"
        },
        "id": "r00qeln0Y6Y6",
        "outputId": "7f27a3cb-98f0-401c-cded-379d7a4e7478"
      },
      "execution_count": 30,
      "outputs": [
        {
          "output_type": "execute_result",
          "data": {
            "text/plain": [
              "(318, 318)"
            ]
          },
          "metadata": {},
          "execution_count": 30
        }
      ]
    },
    {
      "cell_type": "code",
      "source": [
        "input_image_resize = cv2.resize(grayscale, (28, 28))"
      ],
      "metadata": {
        "id": "HN3pUi0jY9gx"
      },
      "execution_count": 37,
      "outputs": []
    },
    {
      "cell_type": "code",
      "source": [
        "cv2_imshow(input_image_resize)"
      ],
      "metadata": {
        "colab": {
          "base_uri": "https://localhost:8080/",
          "height": 45
        },
        "id": "1mymEnJ3Zb-K",
        "outputId": "35a0810f-ae8c-49da-a3ef-f97825c2b363"
      },
      "execution_count": 38,
      "outputs": [
        {
          "output_type": "display_data",
          "data": {
            "text/plain": [
              "<PIL.Image.Image image mode=L size=28x28>"
            ],
            "image/png": "[encoded data removed]",
            "image/jpeg": "[encoded data removed]"
          },
          "metadata": {}
        }
      ]
    },
    {
      "cell_type": "code",
      "source": [
        "input_image_resize = input_image_resize/255\n",
        "image_reshaped = np.reshape(input_image_resize, [1, 28, 28])"
      ],
      "metadata": {
        "id": "KcufxaFcZxQC"
      },
      "execution_count": 39,
      "outputs": []
    },
    {
      "cell_type": "code",
      "source": [
        "input_prediction = model.predict(image_reshaped)\n",
        "print(input_prediction)"
      ],
      "metadata": {
        "colab": {
          "base_uri": "https://localhost:8080/"
        },
        "id": "tJkG8Cfigq7J",
        "outputId": "8db7625a-51cd-460d-c6d3-97f9a093c195"
      },
      "execution_count": 40,
      "outputs": [
        {
          "output_type": "stream",
          "name": "stdout",
          "text": [
            "\u001b[1m1/1\u001b[0m \u001b[32m━━━━━━━━━━━━━━━━━━━━\u001b[0m\u001b[37m\u001b[0m \u001b[1m0s\u001b[0m 36ms/step\n",
            "[[2.4748281e-13 8.2407254e-09 2.5439032e-04 1.0000000e+00 2.0852618e-14\n",
            "  7.1170383e-05 3.9367663e-19 1.8802336e-06 5.1471186e-03 4.7194517e-01]]\n"
          ]
        }
      ]
    },
    {
      "cell_type": "code",
      "source": [
        "input_pred_label = np.argmax(input_prediction)\n",
        "print(input_pred_label)"
      ],
      "metadata": {
        "colab": {
          "base_uri": "https://localhost:8080/"
        },
        "id": "pfHylINqgu5m",
        "outputId": "04603d3c-b6ec-404a-ce50-676af37c6606"
      },
      "execution_count": 41,
      "outputs": [
        {
          "output_type": "stream",
          "name": "stdout",
          "text": [
            "3\n"
          ]
        }
      ]
    },
    {
      "cell_type": "markdown",
      "source": [
        "**Predictive System**"
      ],
      "metadata": {
        "id": "jDj5DW65hMeY"
      }
    },
    {
      "cell_type": "code",
      "source": [
        "input_image_path = input('Enter the path of the image to be predicted: ')\n",
        "input_image = cv2.imread(input_image_path)\n",
        "cv2_imshow(input_image)\n",
        "grayscale = cv2.cvtColor(input_image, cv2.COLOR_BGR2GRAY)\n",
        "input_image_resize = cv2.resize(grayscale, (28, 28))\n",
        "input_image_resize = input_image_resize/255\n",
        "image_reshaped = np.reshape(input_image_resize, [1, 28, 28])\n",
        "input_prediction = model.predict(image_reshaped)\n",
        "input_pred_label = np.argmax(input_prediction)\n",
        "print('The Handwritten Digit is recognised as ', input_pred_label)"
      ],
      "metadata": {
        "colab": {
          "base_uri": "https://localhost:8080/",
          "height": 389
        },
        "id": "7qeH3myrg1u_",
        "outputId": "04adb1fd-83c9-4fed-dc7a-6ef21d1b243e"
      },
      "execution_count": 42,
      "outputs": [
        {
          "name": "stdout",
          "output_type": "stream",
          "text": [
            "Enter the path of the image to be predicted: /content/MNIST_digit.png\n"
          ]
        },
        {
          "output_type": "display_data",
          "data": {
            "text/plain": [
              "<PIL.Image.Image image mode=RGB size=318x318>"
            ],
            "image/png": "[encoded data removed]",
            "image/jpeg": "[encoded data removed]"
          },
          "metadata": {}
        },
        {
          "output_type": "stream",
          "name": "stdout",
          "text": [
            "\u001b[1m1/1\u001b[0m \u001b[32m━━━━━━━━━━━━━━━━━━━━\u001b[0m\u001b[37m\u001b[0m \u001b[1m0s\u001b[0m 36ms/step\n",
            "The Handwritten Digit is recognised as  3\n"
          ]
        }
      ]
    },
    {
      "cell_type": "code",
      "source": [],
      "metadata": {
        "id": "qeIIw_QAiDoW"
      },
      "execution_count": null,
      "outputs": []
    },
    {
      "cell_type": "markdown",
      "metadata": {
        "id": "2bb3c0fd"
      },
      "source": [
        "# Handwritten Digit Recognition using Neural Networks\n",
        "\n",
        "This project implements a handwritten digit recognition system using a simple neural network built with TensorFlow and Keras. The model is trained on the widely used MNIST dataset, which consists of 28x28 grayscale images of handwritten digits (0-9).\n",
        "\n",
        "## Project Overview\n",
        "\n",
        "The goal of this project is to classify handwritten digits with high accuracy. The process involves loading the dataset, preprocessing the images, building and training a neural network model, evaluating its performance, and finally, creating a predictive system to recognize digits from new images.\n",
        "\n",
        "## Techniques Used\n",
        "\n",
        "*   **Neural Networks:** A multi-layer perceptron (MLP) is used for classifying the digits.\n",
        "*   **TensorFlow and Keras:** These libraries are used for building, training, and evaluating the neural network model.\n",
        "*   **MNIST Dataset:** The standard dataset for handwritten digit recognition is utilized.\n",
        "*   **Image Preprocessing:**\n",
        "    *   **Grayscale Conversion:** Color images are converted to grayscale.\n",
        "    *   **Resizing:** Images are resized to a consistent 28x28 resolution.\n",
        "    *   **Scaling:** Pixel values are scaled to a range between 0 and 1.\n",
        "*   **Confusion Matrix:** A confusion matrix is used to visualize the performance of the model and identify misclassifications.\n",
        "*   **Matplotlib and Seaborn:** These libraries are used for data visualization, including displaying images and the confusion matrix.\n",
        "*   **OpenCV (cv2):** Used for image loading, grayscale conversion, and resizing.\n",
        "\n",
        "## Implementation Steps\n",
        "\n",
        "1.  **Load the Dataset:** The MNIST dataset is loaded using `keras.datasets.mnist.load_data()`.\n",
        "2.  **Explore the Data:** The shape and type of the dataset are examined, and examples of the images and their corresponding labels are displayed.\n",
        "3.  **Preprocess the Data:**\n",
        "    *   The pixel values of the training and testing images are scaled to the range [0, 1] by dividing by 255.\n",
        "4.  **Build the Neural Network Model:**\n",
        "    *   A sequential Keras model is created with a `Flatten` layer to convert the 28x28 images into a 1D array.\n",
        "    *   Two dense layers with ReLU activation functions are added as hidden layers.\n",
        "    *   An output dense layer with a sigmoid activation function is used for the 10 classes (digits 0-9).\n",
        "5.  **Compile the Model:** The model is compiled with the Adam optimizer, sparse categorical crossentropy loss function, and accuracy as the evaluation metric.\n",
        "6.  **Train the Model:** The model is trained on the scaled training data for a specified number of epochs.\n",
        "7.  **Evaluate the Model:** The model's performance is evaluated on the scaled test data, and the loss and accuracy are reported.\n",
        "8.  **Make Predictions:** The trained model is used to predict the digit for individual images from the test set.\n",
        "9.  **Visualize Predictions:** The predicted labels are compared with the true labels, and a confusion matrix is generated and visualized using a heatmap to understand the model's performance across different classes.\n",
        "10. **Build a Predictive System:** A system is created to take a new image as input, preprocess it, and predict the handwritten digit using the trained model.\n",
        "\n",
        "## How to Run the Project\n",
        "\n",
        "1.  Clone the repository to your local machine.\n",
        "2.  Make sure you have the necessary libraries installed (TensorFlow, Keras, NumPy, Matplotlib, Seaborn, OpenCV). You can install them using pip:"
      ]
    },
    {
      "cell_type": "code",
      "source": [],
      "metadata": {
        "id": "1LeWpUCojKWX"
      },
      "execution_count": null,
      "outputs": []
    }
  ]
}